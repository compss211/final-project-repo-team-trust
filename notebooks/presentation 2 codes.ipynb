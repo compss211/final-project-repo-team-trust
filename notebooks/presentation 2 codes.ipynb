{
 "cells": [
  {
   "cell_type": "code",
   "execution_count": 2,
   "id": "fd7d18e4-2bb6-43e5-a2d2-f02108243371",
   "metadata": {},
   "outputs": [
    {
     "name": "stderr",
     "output_type": "stream",
     "text": [
      "/tmp/ipykernel_10447/717437559.py:7: DtypeWarning: Columns (12) have mixed types. Specify dtype option on import or set low_memory=False.\n",
      "  df = pd.read_csv('../data/PoliticalDiscussion_comments_sample.csv')\n"
     ]
    },
    {
     "name": "stdout",
     "output_type": "stream",
     "text": [
      "   count(distinct parent_id)\n",
      "0                      48522\n"
     ]
    }
   ],
   "source": [
    "# sqlite and pandas required\n",
    "# Jiyang Li 2025-10-08\n",
    "\n",
    "\n",
    "import sqlite3\n",
    "import pandas as pd\n",
    "df = pd.read_csv('../data/PoliticalDiscussion_comments_sample.csv')\n",
    "conn = sqlite3.connect('project_test.db')\n",
    "df.to_sql('comment_table', conn, if_exists='replace', index=False)\n",
    "post_number = pd.read_sql_query(\"select count(distinct parent_id) from comment_table \", conn)\n",
    "print(post_number)\n",
    "\n"
   ]
  },
  {
   "cell_type": "code",
   "execution_count": 4,
   "id": "747fd954-7d4a-41ab-b950-fc306cdeb0dd",
   "metadata": {},
   "outputs": [
    {
     "name": "stdout",
     "output_type": "stream",
     "text": [
      "   count(distinct comment_id)\n",
      "0                       66942\n"
     ]
    }
   ],
   "source": [
    "comment_number = pd.read_sql_query(\"select count(distinct comment_id) from comment_table \", conn)\n",
    "print(comment_number)"
   ]
  },
  {
   "cell_type": "code",
   "execution_count": null,
   "id": "b5e38039-3e94-4b5c-b973-e088246fb441",
   "metadata": {},
   "outputs": [
    {
     "data": {
      "text/html": [
       "<div>\n",
       "<style scoped>\n",
       "    .dataframe tbody tr th:only-of-type {\n",
       "        vertical-align: middle;\n",
       "    }\n",
       "\n",
       "    .dataframe tbody tr th {\n",
       "        vertical-align: top;\n",
       "    }\n",
       "\n",
       "    .dataframe thead th {\n",
       "        text-align: right;\n",
       "    }\n",
       "</style>\n",
       "<table border=\"1\" class=\"dataframe\">\n",
       "  <thead>\n",
       "    <tr style=\"text-align: right;\">\n",
       "      <th></th>\n",
       "      <th>kind</th>\n",
       "      <th>subreddit</th>\n",
       "      <th>submission_id</th>\n",
       "      <th>comment_id</th>\n",
       "      <th>parent_id</th>\n",
       "      <th>is_top_level</th>\n",
       "      <th>body</th>\n",
       "      <th>author</th>\n",
       "      <th>score</th>\n",
       "      <th>created_utc</th>\n",
       "      <th>author_flair_text</th>\n",
       "      <th>author_flair_type</th>\n",
       "      <th>author_flair_template_id</th>\n",
       "      <th>author_flair_richtext</th>\n",
       "    </tr>\n",
       "  </thead>\n",
       "  <tbody>\n",
       "    <tr>\n",
       "      <th>0</th>\n",
       "      <td>comment</td>\n",
       "      <td>PoliticalDiscussion</td>\n",
       "      <td>litsrx</td>\n",
       "      <td>gn9kh4p</td>\n",
       "      <td>t1_gn5o9dz</td>\n",
       "      <td>False</td>\n",
       "      <td>Pedantic but it does have kne exception. India...</td>\n",
       "      <td>Mist_Rising</td>\n",
       "      <td>27</td>\n",
       "      <td>1.613242e+09</td>\n",
       "      <td>NaN</td>\n",
       "      <td>text</td>\n",
       "      <td>NaN</td>\n",
       "      <td>[]</td>\n",
       "    </tr>\n",
       "    <tr>\n",
       "      <th>1</th>\n",
       "      <td>comment</td>\n",
       "      <td>PoliticalDiscussion</td>\n",
       "      <td>fjqvg5</td>\n",
       "      <td>fkp06ve</td>\n",
       "      <td>t3_fjqvg5</td>\n",
       "      <td>True</td>\n",
       "      <td>Tammy Baldwin or Elizabeth Warren are who I wa...</td>\n",
       "      <td>nantesorkestar</td>\n",
       "      <td>136</td>\n",
       "      <td>1.584399e+09</td>\n",
       "      <td>NaN</td>\n",
       "      <td>text</td>\n",
       "      <td>NaN</td>\n",
       "      <td>[]</td>\n",
       "    </tr>\n",
       "    <tr>\n",
       "      <th>2</th>\n",
       "      <td>comment</td>\n",
       "      <td>PoliticalDiscussion</td>\n",
       "      <td>w7yls1</td>\n",
       "      <td>ihngruw</td>\n",
       "      <td>t1_ihn2l7x</td>\n",
       "      <td>False</td>\n",
       "      <td>https://www.usatoday.com/story/news/politics/2...</td>\n",
       "      <td>lvlint67</td>\n",
       "      <td>6</td>\n",
       "      <td>1.658795e+09</td>\n",
       "      <td>NaN</td>\n",
       "      <td>text</td>\n",
       "      <td>NaN</td>\n",
       "      <td>[]</td>\n",
       "    </tr>\n",
       "    <tr>\n",
       "      <th>3</th>\n",
       "      <td>comment</td>\n",
       "      <td>PoliticalDiscussion</td>\n",
       "      <td>13zqss9</td>\n",
       "      <td>jmuzwk2</td>\n",
       "      <td>t1_jmuz8v0</td>\n",
       "      <td>False</td>\n",
       "      <td>You bet, here:\\n\\nhttps://www.bbc.com/news/wor...</td>\n",
       "      <td>sbdude42</td>\n",
       "      <td>9</td>\n",
       "      <td>1.685885e+09</td>\n",
       "      <td>NaN</td>\n",
       "      <td>text</td>\n",
       "      <td>NaN</td>\n",
       "      <td>[]</td>\n",
       "    </tr>\n",
       "    <tr>\n",
       "      <th>4</th>\n",
       "      <td>comment</td>\n",
       "      <td>PoliticalDiscussion</td>\n",
       "      <td>13u8sip</td>\n",
       "      <td>jm0aig8</td>\n",
       "      <td>t1_jm09faz</td>\n",
       "      <td>False</td>\n",
       "      <td>I’ll tell you before I (involuntarily) lost my...</td>\n",
       "      <td>2057Champs__</td>\n",
       "      <td>6</td>\n",
       "      <td>1.685318e+09</td>\n",
       "      <td>NaN</td>\n",
       "      <td>text</td>\n",
       "      <td>NaN</td>\n",
       "      <td>[]</td>\n",
       "    </tr>\n",
       "  </tbody>\n",
       "</table>\n",
       "</div>"
      ],
      "text/plain": [
       "      kind            subreddit submission_id comment_id   parent_id  \\\n",
       "0  comment  PoliticalDiscussion        litsrx    gn9kh4p  t1_gn5o9dz   \n",
       "1  comment  PoliticalDiscussion        fjqvg5    fkp06ve   t3_fjqvg5   \n",
       "2  comment  PoliticalDiscussion        w7yls1    ihngruw  t1_ihn2l7x   \n",
       "3  comment  PoliticalDiscussion       13zqss9    jmuzwk2  t1_jmuz8v0   \n",
       "4  comment  PoliticalDiscussion       13u8sip    jm0aig8  t1_jm09faz   \n",
       "\n",
       "   is_top_level                                               body  \\\n",
       "0         False  Pedantic but it does have kne exception. India...   \n",
       "1          True  Tammy Baldwin or Elizabeth Warren are who I wa...   \n",
       "2         False  https://www.usatoday.com/story/news/politics/2...   \n",
       "3         False  You bet, here:\\n\\nhttps://www.bbc.com/news/wor...   \n",
       "4         False  I’ll tell you before I (involuntarily) lost my...   \n",
       "\n",
       "           author  score   created_utc author_flair_text author_flair_type  \\\n",
       "0     Mist_Rising     27  1.613242e+09               NaN              text   \n",
       "1  nantesorkestar    136  1.584399e+09               NaN              text   \n",
       "2        lvlint67      6  1.658795e+09               NaN              text   \n",
       "3        sbdude42      9  1.685885e+09               NaN              text   \n",
       "4    2057Champs__      6  1.685318e+09               NaN              text   \n",
       "\n",
       "  author_flair_template_id author_flair_richtext  \n",
       "0                      NaN                    []  \n",
       "1                      NaN                    []  \n",
       "2                      NaN                    []  \n",
       "3                      NaN                    []  \n",
       "4                      NaN                    []  "
      ]
     },
     "execution_count": 5,
     "metadata": {},
     "output_type": "execute_result"
    }
   ],
   "source": [
    "# data structure\n",
    "df.head(5)"
   ]
  },
  {
   "cell_type": "code",
   "execution_count": 3,
   "id": "d0c064b1",
   "metadata": {},
   "outputs": [
    {
     "data": {
      "text/html": [
       "<div>\n",
       "<style scoped>\n",
       "    .dataframe tbody tr th:only-of-type {\n",
       "        vertical-align: middle;\n",
       "    }\n",
       "\n",
       "    .dataframe tbody tr th {\n",
       "        vertical-align: top;\n",
       "    }\n",
       "\n",
       "    .dataframe thead th {\n",
       "        text-align: right;\n",
       "    }\n",
       "</style>\n",
       "<table border=\"1\" class=\"dataframe\">\n",
       "  <thead>\n",
       "    <tr style=\"text-align: right;\">\n",
       "      <th></th>\n",
       "      <th>kind</th>\n",
       "      <th>subreddit</th>\n",
       "      <th>submission_id</th>\n",
       "      <th>comment_id</th>\n",
       "      <th>parent_id</th>\n",
       "      <th>is_top_level</th>\n",
       "      <th>body</th>\n",
       "      <th>author</th>\n",
       "      <th>score</th>\n",
       "      <th>created_utc</th>\n",
       "    </tr>\n",
       "  </thead>\n",
       "  <tbody>\n",
       "    <tr>\n",
       "      <th>0</th>\n",
       "      <td>comment</td>\n",
       "      <td>PoliticalDiscussion</td>\n",
       "      <td>litsrx</td>\n",
       "      <td>gn9kh4p</td>\n",
       "      <td>t1_gn5o9dz</td>\n",
       "      <td>False</td>\n",
       "      <td>Pedantic but it does have kne exception. India...</td>\n",
       "      <td>Mist_Rising</td>\n",
       "      <td>27</td>\n",
       "      <td>1.613242e+09</td>\n",
       "    </tr>\n",
       "    <tr>\n",
       "      <th>1</th>\n",
       "      <td>comment</td>\n",
       "      <td>PoliticalDiscussion</td>\n",
       "      <td>fjqvg5</td>\n",
       "      <td>fkp06ve</td>\n",
       "      <td>t3_fjqvg5</td>\n",
       "      <td>True</td>\n",
       "      <td>Tammy Baldwin or Elizabeth Warren are who I wa...</td>\n",
       "      <td>nantesorkestar</td>\n",
       "      <td>136</td>\n",
       "      <td>1.584399e+09</td>\n",
       "    </tr>\n",
       "    <tr>\n",
       "      <th>2</th>\n",
       "      <td>comment</td>\n",
       "      <td>PoliticalDiscussion</td>\n",
       "      <td>w7yls1</td>\n",
       "      <td>ihngruw</td>\n",
       "      <td>t1_ihn2l7x</td>\n",
       "      <td>False</td>\n",
       "      <td>https://www.usatoday.com/story/news/politics/2...</td>\n",
       "      <td>lvlint67</td>\n",
       "      <td>6</td>\n",
       "      <td>1.658795e+09</td>\n",
       "    </tr>\n",
       "    <tr>\n",
       "      <th>3</th>\n",
       "      <td>comment</td>\n",
       "      <td>PoliticalDiscussion</td>\n",
       "      <td>13zqss9</td>\n",
       "      <td>jmuzwk2</td>\n",
       "      <td>t1_jmuz8v0</td>\n",
       "      <td>False</td>\n",
       "      <td>You bet, here:\\n\\nhttps://www.bbc.com/news/wor...</td>\n",
       "      <td>sbdude42</td>\n",
       "      <td>9</td>\n",
       "      <td>1.685885e+09</td>\n",
       "    </tr>\n",
       "    <tr>\n",
       "      <th>4</th>\n",
       "      <td>comment</td>\n",
       "      <td>PoliticalDiscussion</td>\n",
       "      <td>13u8sip</td>\n",
       "      <td>jm0aig8</td>\n",
       "      <td>t1_jm09faz</td>\n",
       "      <td>False</td>\n",
       "      <td>I’ll tell you before I (involuntarily) lost my...</td>\n",
       "      <td>2057Champs__</td>\n",
       "      <td>6</td>\n",
       "      <td>1.685318e+09</td>\n",
       "    </tr>\n",
       "  </tbody>\n",
       "</table>\n",
       "</div>"
      ],
      "text/plain": [
       "      kind            subreddit submission_id comment_id   parent_id  \\\n",
       "0  comment  PoliticalDiscussion        litsrx    gn9kh4p  t1_gn5o9dz   \n",
       "1  comment  PoliticalDiscussion        fjqvg5    fkp06ve   t3_fjqvg5   \n",
       "2  comment  PoliticalDiscussion        w7yls1    ihngruw  t1_ihn2l7x   \n",
       "3  comment  PoliticalDiscussion       13zqss9    jmuzwk2  t1_jmuz8v0   \n",
       "4  comment  PoliticalDiscussion       13u8sip    jm0aig8  t1_jm09faz   \n",
       "\n",
       "   is_top_level                                               body  \\\n",
       "0         False  Pedantic but it does have kne exception. India...   \n",
       "1          True  Tammy Baldwin or Elizabeth Warren are who I wa...   \n",
       "2         False  https://www.usatoday.com/story/news/politics/2...   \n",
       "3         False  You bet, here:\\n\\nhttps://www.bbc.com/news/wor...   \n",
       "4         False  I’ll tell you before I (involuntarily) lost my...   \n",
       "\n",
       "           author  score   created_utc  \n",
       "0     Mist_Rising     27  1.613242e+09  \n",
       "1  nantesorkestar    136  1.584399e+09  \n",
       "2        lvlint67      6  1.658795e+09  \n",
       "3        sbdude42      9  1.685885e+09  \n",
       "4    2057Champs__      6  1.685318e+09  "
      ]
     },
     "execution_count": 3,
     "metadata": {},
     "output_type": "execute_result"
    }
   ],
   "source": [
    "df=df.drop(columns=['author_flair_text','author_flair_type','author_flair_template_id','author_flair_richtext'])\n",
    "df.head(5)"
   ]
  },
  {
   "cell_type": "code",
   "execution_count": 6,
   "id": "338141db-d528-4923-b0d2-b00daa46477d",
   "metadata": {},
   "outputs": [
    {
     "name": "stdout",
     "output_type": "stream",
     "text": [
      "   sum(length(body))/count(*)\n",
      "0                         368\n"
     ]
    }
   ],
   "source": [
    "#should use pandas not sql :(\n",
    "average_len = pd.read_sql_query(\"select sum(length(body))/count(*) from comment_table limit 5 \", conn)\n",
    "print(average_len)"
   ]
  },
  {
   "cell_type": "code",
   "execution_count": 9,
   "id": "9956bf33-1977-423c-a741-6608121fe12c",
   "metadata": {},
   "outputs": [
    {
     "name": "stdout",
     "output_type": "stream",
     "text": [
      "year\n",
      "2012       35\n",
      "2013       58\n",
      "2014       30\n",
      "2015      117\n",
      "2016     4992\n",
      "2017     2226\n",
      "2018     1509\n",
      "2019     1296\n",
      "2020     5906\n",
      "2021     7627\n",
      "2022    22189\n",
      "2023    20957\n",
      "Name: count, dtype: int64\n"
     ]
    }
   ],
   "source": [
    "# count by year\n",
    "df['year'] = df['created_time'].dt.year\n",
    "year_counts = df['year'].value_counts().sort_index()\n",
    "print(year_counts)"
   ]
  },
  {
   "cell_type": "code",
   "execution_count": null,
   "id": "0259ab7d-a55a-4747-a8e5-4d0b3df2efad",
   "metadata": {},
   "outputs": [
    {
     "name": "stdout",
     "output_type": "stream",
     "text": [
      "[]\n"
     ]
    }
   ],
   "source": [
    "#check whether there are deleted comments\n",
    "cursor = conn.cursor()\n",
    "pattern = \"%removed%\" #avoid %r in text\n",
    "cursor.execute(\"SELECT * FROM comment_table WHERE length(body)<=20 and body LIKE ?\", (pattern,))\n",
    "rows = cursor.fetchall()\n",
    "print(rows)"
   ]
  },
  {
   "cell_type": "code",
   "execution_count": null,
   "id": "a71b8366",
   "metadata": {},
   "outputs": [
    {
     "name": "stdout",
     "output_type": "stream",
     "text": [
      "[]\n"
     ]
    }
   ],
   "source": [
    "cursor = conn.cursor()\n",
    "pattern = \"%deleted%\" #avoid %r in text\n",
    "cursor.execute(\"SELECT * FROM comment_table WHERE length(body)<=20 and body LIKE ?\", (pattern,))\n",
    "rows = cursor.fetchall()\n",
    "print(rows)"
   ]
  },
  {
   "cell_type": "code",
   "execution_count": 1,
   "id": "1f9fd5df",
   "metadata": {},
   "outputs": [
    {
     "name": "stderr",
     "output_type": "stream",
     "text": [
      "C:\\Users\\16082\\AppData\\Local\\Temp\\ipykernel_20784\\902415326.py:6: DtypeWarning: Columns (12) have mixed types. Specify dtype option on import or set low_memory=False.\n",
      "  comments = pd.read_csv(\"../data/PoliticalDiscussion_comments_sample.csv\")\n"
     ]
    }
   ],
   "source": [
    "#merge submissions and comments\n",
    "# Plz add the time transformation code to the merged data frame\n",
    "# !!! data structure is a little bit messy here, try to clean it and drop some useless columns\n",
    "import pandas as pd\n",
    "\n",
    "comments = pd.read_csv(\"../data/PoliticalDiscussion_comments_sample.csv\")\n",
    "submissions = pd.read_csv(\"../data/PoliticalDiscussion_submissions_sample.csv\")\n",
    "\n"
   ]
  },
  {
   "cell_type": "code",
   "execution_count": 2,
   "id": "fa3c609a",
   "metadata": {},
   "outputs": [],
   "source": [
    "comments=comments.drop(columns=['author_flair_text','author_flair_type','author_flair_template_id','author_flair_richtext'])"
   ]
  },
  {
   "cell_type": "code",
   "execution_count": 3,
   "id": "48cd46a9",
   "metadata": {},
   "outputs": [
    {
     "name": "stdout",
     "output_type": "stream",
     "text": [
      "      kind            subreddit submission_id comment_id   parent_id  \\\n",
      "0  comment  PoliticalDiscussion        litsrx    gn9kh4p  t1_gn5o9dz   \n",
      "1  comment  PoliticalDiscussion        fjqvg5    fkp06ve   t3_fjqvg5   \n",
      "2  comment  PoliticalDiscussion        w7yls1    ihngruw  t1_ihn2l7x   \n",
      "3  comment  PoliticalDiscussion       13zqss9    jmuzwk2  t1_jmuz8v0   \n",
      "4  comment  PoliticalDiscussion       13u8sip    jm0aig8  t1_jm09faz   \n",
      "\n",
      "   is_top_level                                               body  \\\n",
      "0         False  Pedantic but it does have kne exception. India...   \n",
      "1          True  Tammy Baldwin or Elizabeth Warren are who I wa...   \n",
      "2         False  https://www.usatoday.com/story/news/politics/2...   \n",
      "3         False  You bet, here:\\n\\nhttps://www.bbc.com/news/wor...   \n",
      "4         False  I’ll tell you before I (involuntarily) lost my...   \n",
      "\n",
      "           author  score   created_utc              created_time  \n",
      "0     Mist_Rising     27  1.613242e+09 2021-02-13 18:52:24+00:00  \n",
      "1  nantesorkestar    136  1.584399e+09 2020-03-16 22:47:42+00:00  \n",
      "2        lvlint67      6  1.658795e+09 2022-07-26 00:25:42+00:00  \n",
      "3        sbdude42      9  1.685885e+09 2023-06-04 13:30:00+00:00  \n",
      "4    2057Champs__      6  1.685318e+09 2023-05-28 23:54:45+00:00  \n"
     ]
    }
   ],
   "source": [
    "# change created_utc to time\n",
    "from datetime import datetime, timezone, timedelta\n",
    "\n",
    "\n",
    "comments['created_time'] = comments['created_utc'].apply(\n",
    "    lambda x: datetime.fromtimestamp(x, tz=timezone.utc)\n",
    ")\n",
    "\n",
    "print(comments.head())\n"
   ]
  },
  {
   "cell_type": "code",
   "execution_count": 4,
   "id": "f3987325",
   "metadata": {},
   "outputs": [
    {
     "name": "stdout",
     "output_type": "stream",
     "text": [
      "earliest time =  2012-01-25 15:55:43+00:00\n",
      "latest time =  2023-12-30 13:28:46+00:00\n"
     ]
    }
   ],
   "source": [
    "# earliest and latest\n",
    "earliest = comments['created_time'].min()\n",
    "latest = comments['created_time'].max()\n",
    "print(\"earliest time = \", earliest)\n",
    "print(\"latest time = \", latest)"
   ]
  },
  {
   "cell_type": "code",
   "execution_count": 5,
   "id": "51ae5a82",
   "metadata": {},
   "outputs": [
    {
     "name": "stdout",
     "output_type": "stream",
     "text": [
      "year\n",
      "2012       35\n",
      "2013       58\n",
      "2014       30\n",
      "2015      117\n",
      "2016     4992\n",
      "2017     2226\n",
      "2018     1509\n",
      "2019     1296\n",
      "2020     5906\n",
      "2021     7627\n",
      "2022    22189\n",
      "2023    20957\n",
      "Name: count, dtype: int64\n"
     ]
    }
   ],
   "source": [
    "# count by year\n",
    "comments['year'] = comments['created_time'].dt.year\n",
    "year_counts = comments['year'].value_counts().sort_index()\n",
    "print(year_counts)"
   ]
  },
  {
   "cell_type": "code",
   "execution_count": 6,
   "id": "cc5cdc36",
   "metadata": {},
   "outputs": [],
   "source": [
    "comments[\"parent_clean_id\"] = comments[\"parent_id\"].str.replace(r\"t\\d+_\", \"\", regex=True)\n",
    "merged = pd.merge(\n",
    "    submissions, comments,\n",
    "    how=\"outer\",\n",
    "    left_on=\"submission_id\",\n",
    "    right_on=\"parent_clean_id\",\n",
    "    indicator=True\n",
    ")"
   ]
  },
  {
   "cell_type": "code",
   "execution_count": 10,
   "id": "6563873b",
   "metadata": {},
   "outputs": [],
   "source": [
    "merged=merged.drop(columns=['link_flair_text','link_flair_type','link_flair_template_id','link_flair_richtext'])"
   ]
  },
  {
   "cell_type": "code",
   "execution_count": 11,
   "id": "241213a1",
   "metadata": {},
   "outputs": [],
   "source": [
    "merged.to_csv(\"../data/joined_data.csv\", index=False)"
   ]
  },
  {
   "cell_type": "code",
   "execution_count": 14,
   "id": "f930b4e2",
   "metadata": {},
   "outputs": [
    {
     "name": "stdout",
     "output_type": "stream",
     "text": [
      "<class 'pandas.core.frame.DataFrame'>\n",
      "RangeIndex: 70494 entries, 0 to 70493\n",
      "Data columns (total 22 columns):\n",
      " #   Column           Non-Null Count  Dtype              \n",
      "---  ------           --------------  -----              \n",
      " 0   kind_x           17668 non-null  object             \n",
      " 1   subreddit_x      17668 non-null  object             \n",
      " 2   submission_id_x  17668 non-null  object             \n",
      " 3   title            17668 non-null  object             \n",
      " 4   selftext         17668 non-null  object             \n",
      " 5   author_x         17668 non-null  object             \n",
      " 6   score_x          17668 non-null  float64            \n",
      " 7   created_utc_x    17668 non-null  float64            \n",
      " 8   kind_y           66942 non-null  object             \n",
      " 9   subreddit_y      66942 non-null  object             \n",
      " 10  submission_id_y  66942 non-null  object             \n",
      " 11  comment_id       66942 non-null  object             \n",
      " 12  parent_id        66942 non-null  object             \n",
      " 13  is_top_level     66942 non-null  object             \n",
      " 14  body             66942 non-null  object             \n",
      " 15  author_y         66942 non-null  object             \n",
      " 16  score_y          66942 non-null  float64            \n",
      " 17  created_utc_y    66942 non-null  float64            \n",
      " 18  created_time     66942 non-null  datetime64[ns, UTC]\n",
      " 19  year             66942 non-null  float64            \n",
      " 20  parent_clean_id  66942 non-null  object             \n",
      " 21  _merge           70494 non-null  category           \n",
      "dtypes: category(1), datetime64[ns, UTC](1), float64(5), object(15)\n",
      "memory usage: 11.4+ MB\n"
     ]
    }
   ],
   "source": [
    "merged.info()"
   ]
  }
 ],
 "metadata": {
  "kernelspec": {
   "display_name": "compss211",
   "language": "python",
   "name": "python3"
  },
  "language_info": {
   "codemirror_mode": {
    "name": "ipython",
    "version": 3
   },
   "file_extension": ".py",
   "mimetype": "text/x-python",
   "name": "python",
   "nbconvert_exporter": "python",
   "pygments_lexer": "ipython3",
   "version": "3.11.13"
  }
 },
 "nbformat": 4,
 "nbformat_minor": 5
}
